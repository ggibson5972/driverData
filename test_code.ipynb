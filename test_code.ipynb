{
 "cells": [
  {
   "cell_type": "code",
   "execution_count": 33,
   "metadata": {
    "collapsed": true
   },
   "outputs": [],
   "source": [
    "import regex\n",
    "import sys\n",
    "import datetime\n",
    "from operator import itemgetter"
   ]
  },
  {
   "cell_type": "code",
   "execution_count": 18,
   "metadata": {},
   "outputs": [
    {
     "data": {
      "text/plain": [
       "'\\nInput:\\nDriver Dan\\nDriver Alex\\nDriver Bob\\nTrip Dan 07:15 07:45 17.3\\nTrip Dan 06:12 06:32 21.8\\nTrip Alex 12:01 13:16 42.0\\n\\nDiscard any trips that average a speed of less than 5 mph or greater than 100 mph.\\n\\n format of hours:minutes\\n\\n\\n\\nOUTPUT:\\nAlex: 42 miles @ 34 mph\\nDan: 39 miles @ 47 mph\\nBob: 0 miles\\n'"
      ]
     },
     "execution_count": 18,
     "metadata": {},
     "output_type": "execute_result"
    }
   ],
   "source": [
    "\"\"\"\n",
    "Input:\n",
    "Driver Dan\n",
    "Driver Alex\n",
    "Driver Bob\n",
    "Trip Dan 07:15 07:45 17.3\n",
    "Trip Dan 06:12 06:32 21.8\n",
    "Trip Alex 12:01 13:16 42.0\n",
    "\n",
    "Discard any trips that average a speed of less than 5 mph or greater than 100 mph.\n",
    "\n",
    " format of hours:minutes\n",
    "\n",
    "\n",
    "\n",
    "OUTPUT:\n",
    "Alex: 42 miles @ 34 mph\n",
    "Dan: 39 miles @ 47 mph\n",
    "Bob: 0 miles\n",
    "\"\"\""
   ]
  },
  {
   "cell_type": "code",
   "execution_count": null,
   "metadata": {},
   "outputs": [],
   "source": [
    "# TESTCASE1\n",
    "f = open(\"C:\\Users\\grace\\Desktop\\input1.txt\",\"r\")\n",
    "contents = f.read()\n",
    "f.close()\n",
    "print contents "
   ]
  },
  {
   "cell_type": "code",
   "execution_count": null,
   "metadata": {},
   "outputs": [],
   "source": [
    "#TESTCASE2\n",
    "t = open(\"C:\\Users\\grace\\Desktop\\input2.txt\",\"r\")\n",
    "contents = t.read()\n",
    "t.close()\n",
    "print contents"
   ]
  },
  {
   "cell_type": "code",
   "execution_count": 34,
   "metadata": {},
   "outputs": [
    {
     "name": "stdout",
     "output_type": "stream",
     "text": [
      "Driver Legolas\n",
      "Driver Arwen\n",
      "Driver Frodo\n",
      "Trip Frodo 17:05 19:38 50.0\n",
      "Driver Gollum\n",
      "Trip Legolas 14:13 16:10 20.0\n",
      "Trip Frodo 20:00 21:00 3.5\n"
     ]
    }
   ],
   "source": [
    "#TESTCASE3\n",
    "d = open(\"C:\\Users\\grace\\Desktop\\input3.txt\",\"r\")\n",
    "contents = d.read()\n",
    "d.close()\n",
    "print contents"
   ]
  },
  {
   "cell_type": "code",
   "execution_count": 35,
   "metadata": {},
   "outputs": [
    {
     "name": "stdout",
     "output_type": "stream",
     "text": [
      "['Driver Legolas', 'Driver Arwen', 'Driver Frodo', 'Trip Frodo 17:05 19:38 50.0', 'Driver Gollum', 'Trip Legolas 14:13 16:10 20.0', 'Trip Frodo 20:00 21:00 3.5']\n"
     ]
    }
   ],
   "source": [
    "# Keep in mind we gotta hide the drivers that are speedy af or just off the clock.\n",
    "all_commands = contents.splitlines()\n",
    "print all_commands"
   ]
  },
  {
   "cell_type": "code",
   "execution_count": 36,
   "metadata": {
    "collapsed": true
   },
   "outputs": [],
   "source": [
    "def getDriveTime(start, end):\n",
    "    #get trip drive time in hours\n",
    "    format = '%H:%M'\n",
    "    startTime = datetime.datetime.strptime(start, format)\n",
    "    endTime = datetime.datetime.strptime(end, format)\n",
    "    diff = endTime - startTime\n",
    "    hours = abs(diff).total_seconds() / 3600.0 # get time in hours\n",
    "    \n",
    "    return hours"
   ]
  },
  {
   "cell_type": "code",
   "execution_count": 37,
   "metadata": {
    "collapsed": true
   },
   "outputs": [],
   "source": [
    "def getSpeed(hours, distance):\n",
    "    #get average speed\n",
    "    #ensure 5mph < speed < 100mph\n",
    "    speed = float(distance) / float(hours)\n",
    "    if float(5) < speed < float(100):\n",
    "        res = speed\n",
    "    else:\n",
    "        res = -1\n",
    "    return res"
   ]
  },
  {
   "cell_type": "code",
   "execution_count": 38,
   "metadata": {},
   "outputs": [
    {
     "name": "stdout",
     "output_type": "stream",
     "text": [
      "['avg_speed', 'total_distance', 'total_time']\n",
      "['avg_speed', 'total_distance', 'total_time']\n",
      "[4, 'avg_speed', 'total_distance', 'total_time']\n",
      "{'Arwen': {'total_time': 0.0, 'avg_speed': -1, 'total_distance': 0.0}, 'Frodo': {'total_time': 2.55, 'avg_speed': 20, 4: -1, 'total_distance': 50.0}, 'Gollum': {'total_time': 0.0, 'avg_speed': -1, 'total_distance': 0.0}, 'Legolas': {'total_time': 1.95, 'avg_speed': 10, 'total_distance': 20.0}}\n"
     ]
    }
   ],
   "source": [
    "# Make a dictionary to store drivers and their bullshit\n",
    "drivers = dict()\n",
    "for x in all_commands:\n",
    "    tokens = x.split() # Put all words into a list.\n",
    "    # Pull out command\n",
    "    command = tokens[0]\n",
    "    if command == \"Driver\":\n",
    "        name = tokens[1] #2nd token in list is name.\n",
    "        drivers[name] = {\"total_distance\": float(0), \"total_time\": float(0), \"avg_speed\": -1}\n",
    "    elif command == \"Trip\":\n",
    "        # If its trip we know there are 3 parts: start, stop, miles. WE need hours.\n",
    "        name = tokens[1]\n",
    "        start = tokens[2]\n",
    "        end = tokens[3]\n",
    "        miles = float(tokens[4])\n",
    "        # Verify mph 5 < x < 100\n",
    "        if name in drivers:\n",
    "            hours = getDriveTime(start,end)\n",
    "            speed = getSpeed(hours,miles)\n",
    "            if speed != -1: # If it's -1, it's outside our threshold. Ignore...\n",
    "                drivers[name]['total_distance'] = drivers[name]['total_distance'] + miles\n",
    "                drivers[name]['total_time'] = drivers[name]['total_time'] + hours\n",
    "                \n",
    "                # Average speed of a bunch of different rates and distances is the TOTAL DISTANCE / TOTAL TIME.\n",
    "                # We also keep all numbers as are until the moment of computation, then after computing we round up to the\n",
    "                # nearest whole number and convert to an integer.\n",
    "                drivers[name]['avg_speed'] = int(round(drivers[name]['total_distance'] / drivers[name]['total_time']))\n",
    "            else:\n",
    "                drivers[name][int(round(miles))] = int(round(speed))\n",
    "            #YAY BECAUSE IT'S ALL ORGANIZED NOW THANK GOD\n",
    "        else:\n",
    "            drivers[name] = {}\n",
    "        print sorted(drivers[name])\n",
    "    else:\n",
    "        # Not a specified command\n",
    "        print(\"This is not a command. Exterminating driver...\")\n",
    "        exit(0)\n",
    "\n",
    "print drivers"
   ]
  },
  {
   "cell_type": "code",
   "execution_count": 39,
   "metadata": {
    "collapsed": true
   },
   "outputs": [],
   "source": [
    "# Sort dictionaries on-the-fly and create a sorted list with the proper text...\n",
    "def create_output_and_sort(drivers):\n",
    "    output_list = []\n",
    "    while(bool(drivers)): # While dictionary not empty\n",
    "        winner = ''\n",
    "        winner_distance = float(-999) # Largest distance\n",
    "        for name in drivers:\n",
    "            if drivers[name][\"total_distance\"] > winner_distance:\n",
    "                # This is our new winner!\n",
    "                winner_distance = drivers[name][\"total_distance\"]\n",
    "                winner = name\n",
    "\n",
    "        # After checking each driver, we have found the current highest mileage one. Add in order to list, and remove\n",
    "        # from the dictionary...\n",
    "        if winner_distance != 0:\n",
    "            output_list.append(winner + ': '+ str(round(drivers[winner]['total_distance'])) + ' miles @ ' + str(round(drivers[winner]['avg_speed'])) + ' mph')\n",
    "        else:\n",
    "            # Means we have a 0 miles case. (Or no speed! No significant trips)\n",
    "            output_list.append(winner + ': 0 miles')\n",
    "        del drivers[winner] # Removes this dude from the list.\n",
    "    return output_list"
   ]
  },
  {
   "cell_type": "code",
   "execution_count": null,
   "metadata": {
    "collapsed": true
   },
   "outputs": [],
   "source": [
    "#OUTPUT1\n",
    "output = create_output_and_sort(drivers)\n",
    "with open(\"C:\\Users\\grace\\Desktop\\output1.txt\", \"w\") as text_file:\n",
    "        text_file.write('\\n'.join(output))"
   ]
  },
  {
   "cell_type": "code",
   "execution_count": null,
   "metadata": {
    "collapsed": true
   },
   "outputs": [],
   "source": [
    "#OUTPUT2\n",
    "output = create_output_and_sort(drivers)\n",
    "with open(\"C:\\Users\\grace\\Desktop\\output2.txt\", \"w\") as text_file:\n",
    "        text_file.write('\\n'.join(output))"
   ]
  },
  {
   "cell_type": "code",
   "execution_count": 40,
   "metadata": {},
   "outputs": [],
   "source": [
    "#OUTPUT3\n",
    "output = create_output_and_sort(drivers)\n",
    "with open(\"C:\\Users\\grace\\Desktop\\output3.txt\", \"w\") as text_file:\n",
    "        text_file.write('\\n'.join(output))"
   ]
  },
  {
   "cell_type": "code",
   "execution_count": null,
   "metadata": {
    "collapsed": true
   },
   "outputs": [],
   "source": []
  }
 ],
 "metadata": {
  "kernelspec": {
   "display_name": "Python 2",
   "language": "python",
   "name": "python2"
  },
  "language_info": {
   "codemirror_mode": {
    "name": "ipython",
    "version": 2
   },
   "file_extension": ".py",
   "mimetype": "text/x-python",
   "name": "python",
   "nbconvert_exporter": "python",
   "pygments_lexer": "ipython2",
   "version": "2.7.13"
  }
 },
 "nbformat": 4,
 "nbformat_minor": 2
}
